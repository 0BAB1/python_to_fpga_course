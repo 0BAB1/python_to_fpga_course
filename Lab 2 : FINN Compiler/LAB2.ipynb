{
 "cells": [
  {
   "cell_type": "markdown",
   "id": "ba451de6-b0e5-44b5-880d-b292262d8232",
   "metadata": {},
   "source": [
    "# From trained model to HW using the finn compiler\n",
    "\n",
    "We will go through network preparation (mainly through [Strealining](https://arxiv.org/pdf/1709.04060) graph transformations) and conversion to HW using the finn compiler."
   ]
  },
  {
   "cell_type": "code",
   "execution_count": 5,
   "id": "6e20ed24-daed-4163-8340-d6a192301bd7",
   "metadata": {},
   "outputs": [],
   "source": [
    "root_dir = \"/tmp/finn_dev_rootmin\"\n",
    "# get onnx model from last LAB\n",
    "filename = root_dir + \"/ready_finn.onnx\""
   ]
  },
  {
   "cell_type": "code",
   "execution_count": 6,
   "id": "b2f159dd-8045-4b49-bce4-52d0a1b8a91b",
   "metadata": {},
   "outputs": [],
   "source": [
    "from finn.util.visualization import showSrc, showInNetron\n",
    "showInNetron(filename)"
   ]
  },
  {
   "cell_type": "markdown",
   "id": "16d510eb-c3d3-4249-91cb-1598c8739611",
   "metadata": {},
   "source": [
    "# Network preparing for finn\n",
    "\n",
    "## Steps summary\n",
    "\n",
    "- Tidy up (and also after EACH step)\n",
    "- Pre (data feed) / Post proc (top k)\n",
    "- **Model streamlining (Main step)** + smaller example\n",
    "- Model HW Layers (Generates Matrix Vector Activation Units for fc layers)\n",
    "- Model data flow partitions (Generate a sub-graph for all HW convertible nodes)\n",
    "- Specialize layer, ready for hw conversion (generates hls for the dataflow partition node)\n",
    "\n",
    "We then adapt the compiler setting dempending on the ressources requirements and call FINN API to generate a stitched IP.\n",
    "\n",
    "## Tidy up\n",
    "\n",
    "The goal of these transformation are simply to give node names & identifiers."
   ]
  },
  {
   "cell_type": "code",
   "execution_count": 7,
   "id": "3a899fc7-a910-4242-aa57-9aace86e4cf6",
   "metadata": {},
   "outputs": [],
   "source": [
    "from qonnx.transformation.general import GiveReadableTensorNames, GiveUniqueNodeNames, RemoveStaticGraphInputs\n",
    "from qonnx.transformation.infer_shapes import InferShapes\n",
    "from qonnx.transformation.infer_datatypes import InferDataTypes\n",
    "from qonnx.transformation.fold_constants import FoldConstants\n",
    "from qonnx.core.modelwrapper import ModelWrapper\n",
    "\n",
    "model = ModelWrapper(filename)\n",
    "\n",
    "# TIDY UP\n",
    "model = model.transform(InferShapes())\n",
    "model = model.transform(FoldConstants())\n",
    "model = model.transform(GiveUniqueNodeNames())\n",
    "model = model.transform(GiveReadableTensorNames())\n",
    "model = model.transform(InferDataTypes())\n",
    "model = model.transform(RemoveStaticGraphInputs())\n",
    "\n",
    "model.save(root_dir + \"/tidy.onnx\")"
   ]
  },
  {
   "cell_type": "code",
   "execution_count": 8,
   "id": "fcb1c448-84e3-49f3-a6b0-b506615f3ef5",
   "metadata": {},
   "outputs": [],
   "source": [
    "showInNetron(root_dir + \"/tidy.onnx\")"
   ]
  },
  {
   "cell_type": "markdown",
   "id": "305f2c61",
   "metadata": {},
   "source": [
    "### Pre processing\n",
    "\n",
    "FINN model will only use 0 to 255 INT8 input once in hgardware, [or at least it will assume integer input](https://github.com/Xilinx/finn/issues/1174#issuecomment-2331778330)\n",
    "\n",
    "We will feed UINT8 quantized values into the model, ranging from 0 to 255, because we did so in training. If the model was trained on FP32 ranging from 0 to 1, adding preprocessing into the graph, like in the commented example below, would be the right solution.\n",
    "\n",
    "We also grab the opportunity to infer the input data type for the FINN compiler to adapt the input interface processing."
   ]
  },
  {
   "cell_type": "code",
   "execution_count": 9,
   "id": "ae0f1449-8db4-4631-b86a-69d45fc174c1",
   "metadata": {},
   "outputs": [],
   "source": [
    "from finn.util.pytorch import ToTensor\n",
    "from qonnx.transformation.merge_onnx_models import MergeONNXModels\n",
    "from qonnx.core.datatype import DataType\n",
    "from brevitas.export import export_qonnx\n",
    "from qonnx.util.cleanup import cleanup as qonnx_cleanup\n",
    "import torch\n",
    "from finn.transformation.qonnx.convert_qonnx_to_finn import ConvertQONNXtoFINN\n",
    "\n",
    "# PRE PROC : NONE\n",
    "model = ModelWrapper(root_dir + \"/tidy.onnx\")\n",
    "\n",
    "\"\"\"\n",
    "global_inp_name = model.graph.input[0].name\n",
    "ishape = model.get_tensor_shape(global_inp_name)\n",
    "# preprocessing: torchvision's ToTensor divides uint8 inputs by 255\n",
    "totensor_pyt = ToTensor()\n",
    "export_qonnx(totensor_pyt, torch.randn(ishape), root_dir + \"/preproc.onnx\")\n",
    "qonnx_cleanup(root_dir + \"/preproc.onnx\", out_file=root_dir + \"/preproc.onnx\")\n",
    "pre_model = ModelWrapper(root_dir + \"/preproc.onnx\")\n",
    "pre_model = pre_model.transform(ConvertQONNXtoFINN())\n",
    "\n",
    "# join preprocessing and core model\n",
    "model = model.transform(MergeONNXModels(pre_model))\n",
    "\"\"\"\n",
    "\n",
    "# add input quantization annotation: UINT8\n",
    "global_inp_name = model.graph.input[0].name\n",
    "model.set_tensor_datatype(global_inp_name, DataType[\"UINT8\"])\n",
    "\n",
    "\n",
    "model.save(root_dir + \"/full_preproc.onnx\")\n",
    "showInNetron(root_dir + \"/full_preproc.onnx\")"
   ]
  },
  {
   "cell_type": "markdown",
   "id": "905e201f",
   "metadata": {},
   "source": [
    "## TEST THE NEW MODEL\n",
    "\n",
    "Now, we can test this new model in order to check wether we did a good job so far with the different datatypes."
   ]
  },
  {
   "cell_type": "code",
   "execution_count": 10,
   "id": "677a114f",
   "metadata": {},
   "outputs": [],
   "source": [
    "import torch\n",
    "from torchvision import datasets, transforms\n",
    "from torch.utils.data import DataLoader\n",
    "import numpy as np\n",
    "\n",
    "model = ModelWrapper(root_dir + \"/full_preproc.onnx\")\n",
    "\n",
    "# get some INT 8 data by quantizing some FashionMNIST data\n",
    "def quantize_tensor(x, num_bits=8):\n",
    "    qmin = 0.\n",
    "    qmax = 2.**num_bits - 1.\n",
    "    min_val, max_val = x.min(), x.max()\n",
    "\n",
    "    scale = (max_val - min_val) / (qmax - qmin)\n",
    "    initial_zero_point = qmin - min_val / scale\n",
    "\n",
    "    zero_point = 0\n",
    "    if initial_zero_point < qmin:\n",
    "        zero_point = qmin\n",
    "    elif initial_zero_point > qmax:\n",
    "        zero_point = qmax\n",
    "    else:\n",
    "        zero_point = initial_zero_point\n",
    "\n",
    "    zero_point = int(zero_point)\n",
    "    q_x = zero_point + x / scale\n",
    "    q_x.clamp_(qmin, qmax).round_()\n",
    "    \n",
    "    return q_x\n",
    "\n",
    "# Define the quantized transform\n",
    "transform_quantized = transforms.Compose([\n",
    "    transforms.ToTensor(),  # Convert the image to a PyTorch tensor\n",
    "    transforms.Lambda(lambda x: quantize_tensor(x))  # Apply quantization\n",
    "])\n",
    "\n",
    "# Load the test dataset\n",
    "test_dataset_qnt = datasets.FashionMNIST(\n",
    "    root='./data',\n",
    "    train=False,  # Load the test set\n",
    "    download=True,\n",
    "    transform=transform_quantized\n",
    ");\n",
    "\n",
    "# Check how it looks (looks good, nice)\n",
    "print(\"Quick check on data...\")\n",
    "print(torch.min(test_dataset_qnt[0][0]))\n",
    "print(torch.max(test_dataset_qnt[0][0]))\n",
    "print(test_dataset_qnt[0][0].dtype)\n",
    "\n",
    "test_loader_qnt = DataLoader(test_dataset_qnt, 100)\n",
    "\n",
    "# RUN INFERENCE\n",
    "from qonnx.core.modelwrapper import ModelWrapper\n",
    "import qonnx.core.onnx_exec as oxe\n",
    "\n",
    "# test the model\n",
    "correct = 0\n",
    "total = 0\n",
    "loss_total = 0\n",
    "print(\"\\\\nRunning the testing loop with ONNX model inference !\\n\")\n",
    "\n",
    "with torch.no_grad():\n",
    "    for batch_idx, (images, labels) in enumerate(test_loader_qnt):\n",
    "        images = torch.reshape(images, (100, 28*28))\n",
    "        for image_idx, image in enumerate(images):\n",
    "            input_tensor = image.detach().numpy().reshape(1, 28 * 28)\n",
    "            # print(input_tensor)\n",
    "            input_dict = {\"global_in\": input_tensor}\n",
    "            output_dict = oxe.execute_onnx(model, input_dict)\n",
    "            produced_qonnx = output_dict[list(output_dict.keys())[0]]\n",
    "            _, predicted = torch.max(torch.from_numpy(produced_qonnx).data, 1)\n",
    "            total += 1\n",
    "            correct += predicted.item() == labels[image_idx].item()\n",
    "            if image_idx % 10 == 0 :\n",
    "                print(image_idx, \"done ! Accuracy so far : \", 100 * correct / total)\n",
    "        if batch_idx == 0 : break # just do 1 batch, too long !\n",
    "\n",
    "    accuracy = 100 * correct / total\n",
    "    print(\"accuracy =\", accuracy, \"%\")"
   ]
  },
  {
   "cell_type": "markdown",
   "id": "b2751988",
   "metadata": {},
   "source": [
    "We also apply post processing ! In our case we add a \"tok K\" label selector that will directly output the class value with the most credence. We grab the opportunity to do a tidy up again, as we added nodes in the graph that were not there in the fity tidy up graph transformations."
   ]
  },
  {
   "cell_type": "code",
   "execution_count": 11,
   "id": "5a9c27e3-8014-4b78-be2d-97cbe9b4d0b0",
   "metadata": {},
   "outputs": [],
   "source": [
    "from qonnx.transformation.insert_topk import InsertTopK\n",
    "\n",
    "# POST PROC\n",
    "\n",
    "# insert Top-1 node at the end\n",
    "model = model.transform(InsertTopK(k=1))\n",
    "chkpt_name = root_dir + \"/pre_post.onnx\"\n",
    "# tidy-up again\n",
    "model = model.transform(InferShapes())\n",
    "model = model.transform(FoldConstants())\n",
    "model = model.transform(GiveUniqueNodeNames())\n",
    "model = model.transform(GiveReadableTensorNames())\n",
    "model = model.transform(InferDataTypes())\n",
    "model = model.transform(RemoveStaticGraphInputs())\n",
    "model.save(chkpt_name)\n",
    "\n",
    "showInNetron(chkpt_name)"
   ]
  },
  {
   "cell_type": "markdown",
   "id": "02fdfe9d",
   "metadata": {},
   "source": [
    "## Model [streamlining](https://arxiv.org/pdf/1709.04060)\n",
    "\n",
    "This set of transformations are one of the main steps, it infer thesholds in the graph and moves operations around. The end goal is to have a full integers model for inference and a streamlined graph structure easily convertible in HW layers.\n",
    "\n",
    "You can vizualize the set of transformation in [this paper](https://arxiv.org/pdf/1709.04060) or by using ```showSrc(Streamline)```"
   ]
  },
  {
   "cell_type": "code",
   "execution_count": 12,
   "id": "b3b62e37-61b7-434e-a4b0-13cb4dc71bec",
   "metadata": {},
   "outputs": [],
   "source": [
    "from finn.transformation.streamline import Streamline\n",
    "# we can see the list of apllied transformations here : showSrc(Streamline)\n",
    "from finn.transformation.streamline.reorder import MoveScalarLinearPastInvariants\n",
    "import finn.transformation.streamline.absorb as absorb\n",
    "\n",
    "model = ModelWrapper(root_dir + \"/pre_post.onnx\")\n",
    "# STREAMLINE\n",
    "model = model.transform(Streamline())\n",
    "model.save(root_dir + \"/streamlined.onnx\")\n",
    "showInNetron(root_dir + \"/streamlined.onnx\")"
   ]
  },
  {
   "cell_type": "markdown",
   "id": "0fdb6275",
   "metadata": {},
   "source": [
    "The following block is kind of \"useless\" but showcases examples of transformations made during the streamlining process"
   ]
  },
  {
   "cell_type": "code",
   "execution_count": 13,
   "id": "a3f8dd1a-cb1d-4265-86c9-be94ae38d6e9",
   "metadata": {},
   "outputs": [],
   "source": [
    "# MODEL PREP\n",
    "# These transformations are similar in what we can find in the Streamline collection of transforms, but we show some here for demonstration...\n",
    "\n",
    "from qonnx.transformation.bipolar_to_xnor import ConvertBipolarMatMulToXnorPopcount\n",
    "from finn.transformation.streamline.round_thresholds import RoundAndClipThresholds\n",
    "from qonnx.transformation.infer_data_layouts import InferDataLayouts\n",
    "from qonnx.transformation.general import RemoveUnusedTensors\n",
    "\n",
    "model = ModelWrapper(root_dir + \"/streamlined.onnx\")\n",
    "\n",
    "model = model.transform(ConvertBipolarMatMulToXnorPopcount())\n",
    "model = model.transform(absorb.AbsorbAddIntoMultiThreshold())\n",
    "model = model.transform(absorb.AbsorbMulIntoMultiThreshold())\n",
    "# absorb final add-mul nodes into TopK\n",
    "model = model.transform(absorb.AbsorbScalarMulAddIntoTopK())\n",
    "model = model.transform(RoundAndClipThresholds())\n",
    "\n",
    "# bit of tidy-up\n",
    "model = model.transform(InferDataLayouts())\n",
    "model = model.transform(RemoveUnusedTensors())\n",
    "\n",
    "model.save(root_dir + \"/streamlined_merged_and_ready.onnx\")\n",
    "showInNetron(root_dir + \"/streamlined_merged_and_ready.onnx\")"
   ]
  },
  {
   "cell_type": "markdown",
   "id": "dd9afe1e",
   "metadata": {},
   "source": [
    "## Re-test\n",
    "\n",
    "To make sure everythong setup correctly, we can  re-test our ONNX Model's graph using the OXE runtime and comparing accuracies"
   ]
  },
  {
   "cell_type": "code",
   "execution_count": 14,
   "id": "08035a41",
   "metadata": {},
   "outputs": [],
   "source": [
    "import torch\n",
    "from torch.utils.data import DataLoader\n",
    "import numpy as np\n",
    "from qonnx.core.modelwrapper import ModelWrapper\n",
    "import qonnx.core.onnx_exec as oxe\n",
    "\n",
    "model = ModelWrapper(root_dir + \"/streamlined_merged_and_ready.onnx\")\n",
    "\n",
    "# Note that data has already been imported in the first test\n",
    "\n",
    "# Check how the data looks\n",
    "print(\"Quick check on data...\")\n",
    "print(torch.min(test_dataset_qnt[0][0]))\n",
    "print(torch.max(test_dataset_qnt[0][0]))\n",
    "print(test_dataset_qnt[0][0].dtype)\n",
    "\n",
    "# re-instanciate the test loader\n",
    "test_loader_qnt = DataLoader(test_dataset_qnt, 100)\n",
    "\n",
    "# test the model\n",
    "correct = 0\n",
    "total = 0\n",
    "loss_total = 0\n",
    "print(\"\\\\nRunning the testing loop with ONNX model inference !\\n\")\n",
    "\n",
    "with torch.no_grad():\n",
    "    for batch_idx, (images, labels) in enumerate(test_loader_qnt):\n",
    "        images = torch.reshape(images, (100, 28*28))\n",
    "        for image_idx, image in enumerate(images):\n",
    "            input_tensor = image.detach().numpy().reshape(1, 28 * 28)\n",
    "            # print(input_tensor)\n",
    "            input_dict = {\"global_in\": input_tensor}\n",
    "            output_dict = oxe.execute_onnx(model, input_dict)\n",
    "            produced_qonnx = output_dict[list(output_dict.keys())[0]]\n",
    "            # watch out ! we added a top K post processing layer, we have to take it into account and modify our test code\n",
    "            predicted = produced_qonnx[0][0]\n",
    "            total += 1\n",
    "            correct += predicted.item() == labels[image_idx].item()\n",
    "            if image_idx % 10 == 0 :\n",
    "                print(image_idx, \"done ! Accuracy so far : \", 100 * correct / total)\n",
    "        if batch_idx == 0 : break # just do 1 batch, too long !\n",
    "\n",
    "    accuracy = 100 * correct / total\n",
    "    print(\"accuracy =\", accuracy, \"%\")"
   ]
  },
  {
   "cell_type": "markdown",
   "id": "0433cb50",
   "metadata": {},
   "source": [
    "We can see that our model is still classifying the input as expected after the streamlining process, great ! Now let's move on to HW conversion.\n",
    "\n",
    "*Note : c++ HLS and HW verification will be done in the verification notebook.*"
   ]
  },
  {
   "cell_type": "markdown",
   "id": "98930e3f",
   "metadata": {},
   "source": [
    "# Convert to HW\n",
    "\n",
    "## Generate HW Layers : MVAU\n",
    "\n",
    "This step does not generate HLS nor RTL code, but rather merges thresholds and matrix vector operations (or convolutions if you use conv nets) into Matrix Vector Activation Units (or Sliding Window Units), if possible,  that each represent a layer that FINN can easily work with. Note that an input preprocessing quantiazer will be implemented as a simple standalone Threasholding layer that will then nbe converted to Thresholding_hls layer."
   ]
  },
  {
   "cell_type": "code",
   "execution_count": 15,
   "id": "7c5743b7-5bb3-44c5-9e82-7b074af82610",
   "metadata": {},
   "outputs": [],
   "source": [
    "import finn.transformation.fpgadataflow.convert_to_hw_layers as to_hw\n",
    "from qonnx.core.modelwrapper import ModelWrapper\n",
    "\n",
    "# TO HW LAYERS\n",
    "\n",
    "model = ModelWrapper(root_dir + \"/streamlined_merged_and_ready.onnx\")\n",
    "model = model.transform(to_hw.InferLabelSelectLayer())\n",
    "model = model.transform(to_hw.InferChannelwiseLinearLayer())\n",
    "model = model.transform(to_hw.InferQuantizedMatrixVectorActivation())\n",
    "model = model.transform(to_hw.InferThresholdingLayer())\n",
    "model.save(root_dir + \"/hw.onnx\")\n",
    "showInNetron(root_dir + \"/hw.onnx\")"
   ]
  },
  {
   "cell_type": "markdown",
   "id": "687c95e2",
   "metadata": {},
   "source": [
    "Once MVAU are infered, we can ask FINN to discriminate HW convertible layers into dataflow partitions. In our case, all our layers are compatible, but in some cases, some operation might have to be done on software, of you may have to re-work your graph."
   ]
  },
  {
   "cell_type": "code",
   "execution_count": 16,
   "id": "c29e30b3-a8a6-4c76-a88a-5638bf570fc4",
   "metadata": {},
   "outputs": [],
   "source": [
    "from finn.transformation.fpgadataflow.create_dataflow_partition import CreateDataflowPartition\n",
    "\n",
    "model = ModelWrapper(root_dir + \"/hw.onnx\")\n",
    "parent_model = model.transform(CreateDataflowPartition())\n",
    "parent_model.save(root_dir + \"/df_part.onnx\")\n",
    "showInNetron(root_dir + \"/df_part.onnx\")\n",
    "\n",
    "# We see that our entire model is now part of a child model in \"StreamingDataflowPartition\""
   ]
  },
  {
   "cell_type": "markdown",
   "id": "1027be7e",
   "metadata": {},
   "source": [
    "We select the child model to work on it (i.e. actual HLS/RTL conversion) using [getCustopOp](https://finn.readthedocs.io/en/latest/source_code/finn.custom_op.html)"
   ]
  },
  {
   "cell_type": "code",
   "execution_count": 17,
   "id": "30d820e5-6c91-487d-bc0b-fa19c5683eb5",
   "metadata": {},
   "outputs": [],
   "source": [
    "from qonnx.custom_op.registry import getCustomOp\n",
    "sdp_node = parent_model.get_nodes_by_op_type(\"StreamingDataflowPartition\")[0]\n",
    "sdp_node = getCustomOp(sdp_node)\n",
    "dataflow_model_filename = sdp_node.get_nodeattr(\"model\")\n",
    "showInNetron(dataflow_model_filename)"
   ]
  },
  {
   "cell_type": "markdown",
   "id": "231796cb",
   "metadata": {},
   "source": [
    "## MVAU HLS Conversion\n",
    "\n",
    "In this process, we simply runnn a FINN API call that will generate HLS Layers from the MVAU / SLWU. To adapt the resulting HLS code, we also chose an FPGA part from the supported pool. You can simply choose a part that \"ressembles\" your end target as this is not the end Synth target for Vitis HLS RTL conversion."
   ]
  },
  {
   "cell_type": "code",
   "execution_count": 18,
   "id": "37d6f087-a4c2-431e-9550-348304271c10",
   "metadata": {},
   "outputs": [],
   "source": [
    "# print the names of the supported PYNQ boards\n",
    "from finn.util.basic import pynq_part_map\n",
    "print(pynq_part_map.keys())\n",
    "\n",
    "# change this if you have a different PYNQ board, see list above\n",
    "pynq_board = \"Pynq-Z1\"\n",
    "fpga_part = pynq_part_map[pynq_board]\n",
    "target_clk_ns = 20"
   ]
  },
  {
   "cell_type": "code",
   "execution_count": 19,
   "id": "b4b0803d-f354-475a-83f9-ac6b920a2e91",
   "metadata": {},
   "outputs": [],
   "source": [
    "from finn.transformation.fpgadataflow.specialize_layers import SpecializeLayers\n",
    "model = ModelWrapper(dataflow_model_filename)\n",
    "\n",
    "model = model.transform(SpecializeLayers(fpga_part))\n",
    "\n",
    "showSrc(SpecializeLayers)\n",
    "\n",
    "model.save(root_dir + \"/to_hw_conv.onnx\")\n",
    "showInNetron(root_dir + \"/to_hw_conv.onnx\")"
   ]
  },
  {
   "attachments": {
    "image.png": {
     "image/png": "[encoded data removed]"
    }
   },
   "cell_type": "markdown",
   "id": "d8c31edf",
   "metadata": {},
   "source": [
    "## FOLDING PARAMETER AND LOOP UNROLLING\n",
    "\n",
    "When dealing with ressource requirements, tinkering these parameters is the ways to go in order to find a balance between throughput and ressource utilization. Here are some examples from the [finn paper, table 3 on page 8](https://arxiv.org/pdf/1612.07119) on BNNs and the effect of maximize and minimizing the usage :\n",
    "\n",
    "![image.png](attachment:image.png)\n",
    "\n",
    "regarding the effects\n",
    "\n",
    "> The higher the PE and SIMD values are set, the faster the generated accelerator will run, and the more FPGA resources it will consume. \n",
    "\n",
    "See [finn paper, figure 5 on page 5](https://arxiv.org/pdf/1612.07119) or refer to the lectures for better understanding of PE, SIMD, LOOP UNROLLING & FOLDING\n",
    "\n",
    "### Gather information on current params"
   ]
  },
  {
   "cell_type": "code",
   "execution_count": 20,
   "id": "9e6fe57b",
   "metadata": {},
   "outputs": [],
   "source": [
    "model = ModelWrapper(root_dir + \"/to_hw_conv.onnx\")\n",
    "\n",
    "fc0 = model.graph.node[0] #1st MVAU\n",
    "fc0w = getCustomOp(fc0)\n",
    "\n",
    "print(\"CustomOp wrapper is of class \" + fc0w.__class__.__name__)\n",
    "\n",
    "fc0w.get_nodeattr_types()"
   ]
  },
  {
   "cell_type": "markdown",
   "id": "1764393e",
   "metadata": {},
   "source": [
    "### Set the folding\n",
    "\n",
    "See manual example in this [finn notebook](https://github.com/Xilinx/finn/blob/main/notebooks/end2end_example/bnn-pynq/tfc_end2end_example.ipynb).\n",
    "\n",
    "SetFolding will automatically try to figure out PE ans SIMD parameter depending on target requirements."
   ]
  },
  {
   "cell_type": "code",
   "execution_count": 21,
   "id": "c949b112",
   "metadata": {},
   "outputs": [],
   "source": [
    "from finn.transformation.fpgadataflow.set_folding import SetFolding\n",
    "\n",
    "TARGET_FPS = 10000\n",
    "target_clk_cycles_per_frame = 1/(TARGET_FPS * 10e-9)\n",
    "\n",
    "model = ModelWrapper(root_dir + \"/to_hw_conv.onnx\")\n",
    "\n",
    "model.transform(SetFolding(target_cycles_per_frame=target_clk_cycles_per_frame, mvau_wwidth_max=64, two_pass_relaxation=True))\n",
    "\n",
    "model.save(root_dir + \"/to_hw_folded.onnx\")"
   ]
  },
  {
   "cell_type": "markdown",
   "id": "e290c35b",
   "metadata": {},
   "source": [
    "Note that you can also use [this transformation](https://github.com/Xilinx/finn/blob/9d299689f2ec0895f208b8bfe3bcdcf6f450181a/src/finn/transformation/fpgadataflow/set_fifo_depths.py#L199) to modify ififo and ofifo depth if needed."
   ]
  },
  {
   "cell_type": "markdown",
   "id": "1d5b024a-6b7b-4fbf-bb65-92181db335ae",
   "metadata": {},
   "source": [
    "# ACTUAL HARDWARE BUILD\n",
    "\n",
    "We first run some estimations based on the TARGET FPS constant defined earlier"
   ]
  },
  {
   "cell_type": "code",
   "execution_count": 22,
   "id": "85c2354c-0dc8-4960-b6a4-916e55ee2629",
   "metadata": {},
   "outputs": [],
   "source": [
    "# ESTIMATE\n",
    "import finn.builder.build_dataflow as build\n",
    "import finn.builder.build_dataflow_config as build_cfg\n",
    "import os\n",
    "import shutil\n",
    "\n",
    "model_file = root_dir + \"/to_hw_folded.onnx\"\n",
    "\n",
    "estimates_output_dir = \"output_estimates_only\"\n",
    "\n",
    "#Delete previous run results if exist\n",
    "if os.path.exists(estimates_output_dir):\n",
    "    shutil.rmtree(estimates_output_dir)\n",
    "    print(\"Previous run results deleted!\")\n",
    "\n",
    "\n",
    "cfg_estimates = build.DataflowBuildConfig(\n",
    "    output_dir          = estimates_output_dir,\n",
    "    mvau_wwidth_max     = 80,\n",
    "    target_fps          = TARGET_FPS,\n",
    "    synth_clk_period_ns = 10.0,\n",
    "    fpga_part           = \"xc7z020clg400-1\",\n",
    "    steps               = build_cfg.estimate_only_dataflow_steps,\n",
    "    generate_outputs=[\n",
    "        build_cfg.DataflowOutputType.ESTIMATE_REPORTS,\n",
    "    ]\n",
    ")\n",
    "\n",
    "build.build_dataflow_cfg(model_file, cfg_estimates)"
   ]
  },
  {
   "cell_type": "markdown",
   "id": "56daf0aa",
   "metadata": {},
   "source": [
    "### Read the estimates reports\n",
    "\n",
    "In these reports, we can see the estimates fits our target, and we can get an overview of hw many LUTs will be used"
   ]
  },
  {
   "cell_type": "code",
   "execution_count": 23,
   "id": "be52c37b-99aa-4e51-b301-4c85cd8c248c",
   "metadata": {},
   "outputs": [],
   "source": [
    "! cat {estimates_output_dir}/report/estimate_network_performance.json"
   ]
  },
  {
   "cell_type": "code",
   "execution_count": 24,
   "id": "08f5f9b6-4bd5-4cfe-b47c-92f44ef359bb",
   "metadata": {},
   "outputs": [],
   "source": [
    "import json\n",
    "def read_json_dict(filename):\n",
    "    with open(filename, \"r\") as f:\n",
    "        ret = json.load(f)\n",
    "    return ret\n",
    "\n",
    "read_json_dict(estimates_output_dir + \"/report/estimate_layer_cycles.json\")"
   ]
  },
  {
   "cell_type": "code",
   "execution_count": 25,
   "id": "2ac70b24-6941-487e-93fa-4086d0867b88",
   "metadata": {},
   "outputs": [],
   "source": [
    "read_json_dict(estimates_output_dir + \"/report/estimate_layer_resources.json\")"
   ]
  },
  {
   "cell_type": "code",
   "execution_count": 26,
   "id": "75f4f32e-dd40-4fb4-a9b4-28d6e11d294e",
   "metadata": {},
   "outputs": [],
   "source": [
    "# Actual hardware build, ZYNQ BUILD\n",
    "from finn.transformation.fpgadataflow.make_zynq_proj import ZynqBuild\n",
    "\n",
    "model = ModelWrapper(root_dir + \"/to_hw_conv.onnx\")\n",
    "model = model.transform(ZynqBuild(platform = pynq_board, period_ns = target_clk_ns,partition_model_dir=\"./test\",enable_debug=True))"
   ]
  },
  {
   "cell_type": "code",
   "execution_count": 22,
   "id": "e11f6626-1f41-46c1-8c6b-23720a1d7668",
   "metadata": {},
   "outputs": [],
   "source": [
    "model.save(root_dir + \"/post_synth.onnx\")"
   ]
  },
  {
   "cell_type": "code",
   "execution_count": 23,
   "id": "4bd682c8-301b-4380-9ed7-3a78c1d9b3e2",
   "metadata": {},
   "outputs": [],
   "source": [
    "showInNetron(root_dir + \"/post_synth.onnx\")"
   ]
  },
  {
   "cell_type": "code",
   "execution_count": 24,
   "id": "363bf788-8628-4bf0-ac76-59c88e67c4a9",
   "metadata": {},
   "outputs": [],
   "source": [
    "model = ModelWrapper(root_dir + \"/post_synth.onnx\")"
   ]
  },
  {
   "cell_type": "code",
   "execution_count": 25,
   "id": "2e57c9ad-8d2f-4895-b7d8-a48fb326216c",
   "metadata": {},
   "outputs": [],
   "source": [
    "model.model.metadata_props\n",
    "# en fouillant un peu, on voit le projete mère avec deuc couvhes IODMA\n",
    "# et en ouvrant le stiched projet de la couche du milleu on retrouve notre modèle (voir ci-dessous)"
   ]
  },
  {
   "attachments": {
    "62288775-2dba-4775-8510-34eb8f89ffe6.png": {
     "image/png": "[encoded data removed]"
    }
   },
   "cell_type": "markdown",
   "id": "5425f0a2-9446-4512-a90a-e0320a57440e",
   "metadata": {},
   "source": [
    "![image.png](attachment:62288775-2dba-4775-8510-34eb8f89ffe6.png)"
   ]
  },
  {
   "cell_type": "code",
   "execution_count": 29,
   "id": "3b611d4b-5bbb-4cc8-9e56-9485bd72df4e",
   "metadata": {},
   "outputs": [],
   "source": [
    "# On remarque également que notre modèle demande 8bits par 8bits\n",
    "# ce qui veut dire qu'une image en tière se charge en 28*28*8/8 = 784 cycles\n",
    "# avec 20ns par cycle = 15 680 ns / images soit 63 000 images /sec\n",
    "# (en théorie.)"
   ]
  },
  {
   "attachments": {
    "2557d696-c367-4597-890c-b340ad8fb3ee.png": {
     "image/png": "[encoded data removed]"
    }
   },
   "cell_type": "markdown",
   "id": "d58d8e54-11af-44c4-9611-212965f0fabe",
   "metadata": {},
   "source": [
    "![image.png](attachment:2557d696-c367-4597-890c-b340ad8fb3ee.png)  "
   ]
  }
 ],
 "metadata": {
  "kernelspec": {
   "display_name": "Python 3 (ipykernel)",
   "language": "python",
   "name": "python3"
  }
 },
 "nbformat": 4,
 "nbformat_minor": 5
}
